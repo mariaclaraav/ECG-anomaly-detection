{
 "cells": [
  {
   "cell_type": "code",
   "execution_count": 1,
   "metadata": {},
   "outputs": [],
   "source": [
    "import numpy as np\n",
    "import pandas as pd\n",
    "from sklearn.model_selection import train_test_split\n",
    "from sklearn.preprocessing import StandardScaler\n",
    "from tensorflow.keras.models import Model\n",
    "from tensorflow.keras.layers import Input, Dense\n",
    "import tensorflow as tf\n",
    "\n",
    "from sklearn.model_selection import train_test_split"
   ]
  },
  {
   "cell_type": "code",
   "execution_count": 2,
   "metadata": {},
   "outputs": [],
   "source": [
    "data_path = 'C:/Users/maria/OneDrive/Documentos/Github/ECG-anomaly-detection/data/processed/'\n",
    "df_normal = pd.read_parquet(data_path + 'ptdb_normal.parquet')\n",
    "df_anomaly = pd.read_parquet(data_path + 'ptdb_abnormal.parquet')"
   ]
  },
  {
   "cell_type": "code",
   "execution_count": 3,
   "metadata": {},
   "outputs": [],
   "source": [
    "df_normal['label'] = 0\n",
    "df_anomaly['label'] = 1"
   ]
  },
  {
   "cell_type": "code",
   "execution_count": null,
   "metadata": {},
   "outputs": [],
   "source": [
    "def prepare_autoencoder_data(normal_df, anomaly_df, test_size=0.5, random_state=42):\n",
    "\n",
    "    # Separating the features and labels of normal data\n",
    "    X_normal = normal_df.iloc[:, :-1]\n",
    "    y_normal = normal_df['label']\n",
    "    \n",
    "    # Separating the features and labels of anomaly data\n",
    "    X_anomaly = anomaly_df.iloc[:, :-1]\n",
    "    y_anomaly = anomaly_df['label']\n",
    "    \n",
    "    # Splitting the normal data into training and testing sets\n",
    "    X_train_normal, X_test_normal, y_train_normal, y_test_normal = train_test_split(\n",
    "        X_normal, y_normal, test_size=test_size, random_state=random_state)\n",
    "    \n",
    "    # Combining the normal test data with the anomaly data to form the final test set\n",
    "    X_test = pd.concat([X_test_normal, X_anomaly], axis=0)\n",
    "    y_test = pd.concat([y_test_normal, y_anomaly], axis=0)\n",
    "    \n",
    "    # Training set remains only with normal data\n",
    "    X_train = X_train_normal\n",
    "    y_train = y_train_normal\n",
    "    \n",
    "    # Resetting the indices of the DataFrames\n",
    "    X_train.reset_index(drop=True, inplace=True)\n",
    "    y_train.reset_index(drop=True, inplace=True)\n",
    "    X_test.reset_index(drop=True, inplace=True)\n",
    "    y_test.reset_index(drop=True, inplace=True)\n",
    "    \n",
    "    return X_train, y_train, X_test, y_test\n",
    "\n",
    "X_train, y_train, X_test, y_test = prepare_autoencoder_data(df_normal, df_anomaly, test_size=0.2)\n",
    "\n",
    "print(f'Training set size: {X_train.shape}')\n",
    "print(f'Test set size: {X_test.shape}')\n",
    "\n",
    "\n",
    "class detector(Model):\n",
    "  def __init__(self):\n",
    "    super(detector, self).__init__()\n",
    "    self.encoder = tf.keras.Sequential([\n",
    "                                        layers.Dense(32, activation='relu'),\n",
    "                                        layers.Dense(16, activation='relu'),\n",
    "                                        layers.Dense(8, activation='relu')\n",
    "    ])\n",
    "    self.decoder = tf.keras.Sequential([\n",
    "                                        layers.Dense(16, activation='relu'),\n",
    "                                        layers.Dense(32, activation='relu'),\n",
    "                                        layers.Dense(140, activation='sigmoid')\n",
    "    ])\n",
    "\n",
    "  def call(self, x):\n",
    "    encoded = self.encoder(x)\n",
    "    decoded = self.decoder(encoded)\n",
    "    return decoded\n"
   ]
  }
 ],
 "metadata": {
  "kernelspec": {
   "display_name": "ecg-env",
   "language": "python",
   "name": "python3"
  },
  "language_info": {
   "codemirror_mode": {
    "name": "ipython",
    "version": 3
   },
   "file_extension": ".py",
   "mimetype": "text/x-python",
   "name": "python",
   "nbconvert_exporter": "python",
   "pygments_lexer": "ipython3",
   "version": "3.10.14"
  }
 },
 "nbformat": 4,
 "nbformat_minor": 2
}
